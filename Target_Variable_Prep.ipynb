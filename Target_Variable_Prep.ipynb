{
 "cells": [
  {
   "cell_type": "code",
   "execution_count": 1,
   "metadata": {},
   "outputs": [],
   "source": [
    "import numpy as np\n",
    "import pandas as pd"
   ]
  },
  {
   "cell_type": "markdown",
   "metadata": {},
   "source": [
    "### Load and clean UNHCR data"
   ]
  },
  {
   "cell_type": "code",
   "execution_count": 3,
   "metadata": {},
   "outputs": [
    {
     "name": "stderr",
     "output_type": "stream",
     "text": [
      "//anaconda3/lib/python3.7/site-packages/IPython/core/interactiveshell.py:3057: DtypeWarning: Columns (4,5,6,7,8,9,10,11,12,13) have mixed types. Specify dtype option on import or set low_memory=False.\n",
      "  interactivity=interactivity, compiler=compiler, result=result)\n"
     ]
    }
   ],
   "source": [
    "# Assumes the raw file is in the same directory as the notebook\n",
    "data = pd.read_csv(\"unhcr_popstats_export_asylum_seekers_all_data(raw_data).csv\",skiprows=3)"
   ]
  },
  {
   "cell_type": "code",
   "execution_count": 4,
   "metadata": {},
   "outputs": [
    {
     "data": {
      "text/plain": [
       "Index(['Year', 'Country / territory of asylum/residence', 'Origin',\n",
       "       'RSD procedure type / level', 'Tota pending start-year',\n",
       "       'of which UNHCR-assisted', 'Applied during year',\n",
       "       'statistics.filter.decisions_recognized',\n",
       "       'statistics.filter.decisions_other', 'Rejected', 'Otherwise closed',\n",
       "       'Total decisions', 'Total pending end-year',\n",
       "       'of which UNHCR-assisted.1'],\n",
       "      dtype='object')"
      ]
     },
     "execution_count": 4,
     "metadata": {},
     "output_type": "execute_result"
    }
   ],
   "source": [
    "data.columns"
   ]
  },
  {
   "cell_type": "code",
   "execution_count": 5,
   "metadata": {},
   "outputs": [
    {
     "name": "stdout",
     "output_type": "stream",
     "text": [
      "Earliest year of data: 2000\n"
     ]
    }
   ],
   "source": [
    "# No data before 2000\n",
    "print(\"Earliest year of data: {}\".format(data['Year'].min()))"
   ]
  },
  {
   "cell_type": "code",
   "execution_count": 6,
   "metadata": {},
   "outputs": [
    {
     "name": "stdout",
     "output_type": "stream",
     "text": [
      "Number of missing values in 'Applied during year': 11875\n",
      "Fraction of missing values in 'Applied during year': 0.07870493107104984\n"
     ]
    },
    {
     "name": "stderr",
     "output_type": "stream",
     "text": [
      "//anaconda3/lib/python3.7/site-packages/pandas/core/indexing.py:190: SettingWithCopyWarning: \n",
      "A value is trying to be set on a copy of a slice from a DataFrame\n",
      "\n",
      "See the caveats in the documentation: http://pandas.pydata.org/pandas-docs/stable/indexing.html#indexing-view-versus-copy\n",
      "  self._setitem_with_indexer(indexer, value)\n"
     ]
    }
   ],
   "source": [
    "# Annoyingly, the data uses both NaN and * for missing values.  This convert * to NaN which are then dropped.\n",
    "data['Applied during year'].loc[data['Applied during year']=='*']=np.NaN\n",
    "\n",
    "# Number of missing values in \"Applied during year\"\n",
    "num_missing_values = sum(data['Applied during year'].isna())\n",
    "print(\"Number of missing values in 'Applied during year': {}\".format(num_missing_values))\n",
    "print(\"Fraction of missing values in 'Applied during year': {}\".format(num_missing_values/data.shape[0]))"
   ]
  },
  {
   "cell_type": "code",
   "execution_count": 9,
   "metadata": {},
   "outputs": [
    {
     "data": {
      "text/plain": [
       "Cameroon                            168\n",
       "Congo                               166\n",
       "Nigeria                             153\n",
       "Guinea                              153\n",
       "Ethiopia                            149\n",
       "Sierra Leone                        148\n",
       "Liberia                             148\n",
       "Mali                                148\n",
       "Côte d'Ivoire                       145\n",
       "Eritrea                             144\n",
       "Palestinian                         140\n",
       "Sudan                               137\n",
       "Lebanon                             135\n",
       "Dem. Rep. of the Congo              133\n",
       "Syrian Arab Rep.                    132\n",
       "Ghana                               131\n",
       "Egypt                               131\n",
       "Togo                                131\n",
       "Jordan                              126\n",
       "Somalia                             126\n",
       "Senegal                             121\n",
       "India                               120\n",
       "Gambia                              119\n",
       "Central African Rep.                117\n",
       "Afghanistan                         117\n",
       "Rwanda                              116\n",
       "Sri Lanka                           115\n",
       "Pakistan                            115\n",
       "Iraq                                111\n",
       "Yemen                               111\n",
       "                                   ... \n",
       "Tonga                                 5\n",
       "Bermuda                               5\n",
       "French Guiana                         4\n",
       "Iceland                               4\n",
       "New Caledonia                         4\n",
       "Cayman Islands                        4\n",
       "Kiribati                              4\n",
       "Puerto Rico                           4\n",
       "Turks and Caicos Islands              4\n",
       "Martinique                            3\n",
       "Guadeloupe                            3\n",
       "Vanuatu                               3\n",
       "Gibraltar                             3\n",
       "Guam                                  3\n",
       "Wallis and Futuna Islands             3\n",
       "Niue                                  3\n",
       "Anguilla                              2\n",
       "Tuvalu                                2\n",
       "Svalbard and Jan Mayen                2\n",
       "Cook Islands                          2\n",
       "Saint-Pierre-et-Miquelon              2\n",
       "Norfolk Island                        2\n",
       "French Polynesia                      2\n",
       "American Samoa                        2\n",
       "Marshall Islands                      2\n",
       "Curaçao                               2\n",
       "Aruba                                 2\n",
       "Holy See (the)                        1\n",
       "Micronesia (Federated States of)      1\n",
       "Nauru                                 1\n",
       "Name: Origin, Length: 221, dtype: int64"
      ]
     },
     "execution_count": 9,
     "metadata": {},
     "output_type": "execute_result"
    }
   ],
   "source": [
    "data[data['Applied during year'].isna()]['Origin'].value_counts()"
   ]
  },
  {
   "cell_type": "code",
   "execution_count": 6,
   "metadata": {},
   "outputs": [],
   "source": [
    "# For now, just remove the missing value rows\n",
    "filtered_data = data.dropna(subset=['Applied during year'])\n",
    "filtered_data = filtered_data.astype({'Applied during year': 'int32'})"
   ]
  },
  {
   "cell_type": "code",
   "execution_count": 7,
   "metadata": {},
   "outputs": [],
   "source": [
    "# Group the data by year and origin, sum the values of 'Applied during year'\n",
    "grouped_data = filtered_data.groupby(['Year','Origin'])['Applied during year'].sum()"
   ]
  },
  {
   "cell_type": "code",
   "execution_count": 8,
   "metadata": {},
   "outputs": [
    {
     "name": "stdout",
     "output_type": "stream",
     "text": [
      "Grouped sum: 22615322\n",
      "Raw sum: 22615322\n"
     ]
    }
   ],
   "source": [
    "# Check that totals line up\n",
    "print(\"Grouped sum: {}\".format(grouped_data.sum()))\n",
    "print(\"Raw sum: {}\".format(filtered_data['Applied during year'].sum()))"
   ]
  },
  {
   "cell_type": "code",
   "execution_count": 20,
   "metadata": {},
   "outputs": [],
   "source": [
    "# Convert to a DataFrame so we can add columns\n",
    "target_df = pd.DataFrame(grouped_data)\n",
    "target_df['year_origin'] = output_df.index"
   ]
  },
  {
   "cell_type": "markdown",
   "metadata": {},
   "source": [
    "### Join with ISO codes"
   ]
  },
  {
   "cell_type": "code",
   "execution_count": 10,
   "metadata": {},
   "outputs": [
    {
     "data": {
      "text/html": [
       "<div>\n",
       "<style scoped>\n",
       "    .dataframe tbody tr th:only-of-type {\n",
       "        vertical-align: middle;\n",
       "    }\n",
       "\n",
       "    .dataframe tbody tr th {\n",
       "        vertical-align: top;\n",
       "    }\n",
       "\n",
       "    .dataframe thead th {\n",
       "        text-align: right;\n",
       "    }\n",
       "</style>\n",
       "<table border=\"1\" class=\"dataframe\">\n",
       "  <thead>\n",
       "    <tr style=\"text-align: right;\">\n",
       "      <th></th>\n",
       "      <th>English_short_name</th>\n",
       "      <th>French_short_name</th>\n",
       "      <th>Alpha_2_code</th>\n",
       "      <th>Alpha_3_code</th>\n",
       "      <th>Numeric</th>\n",
       "      <th>Origin</th>\n",
       "    </tr>\n",
       "  </thead>\n",
       "  <tbody>\n",
       "    <tr>\n",
       "      <th>0</th>\n",
       "      <td>Afghanistan</td>\n",
       "      <td>Afghanistan (l')</td>\n",
       "      <td>AF</td>\n",
       "      <td>AFG</td>\n",
       "      <td>4</td>\n",
       "      <td>Afghanistan</td>\n",
       "    </tr>\n",
       "    <tr>\n",
       "      <th>1</th>\n",
       "      <td>Albania</td>\n",
       "      <td>Albanie (l')</td>\n",
       "      <td>AL</td>\n",
       "      <td>ALB</td>\n",
       "      <td>8</td>\n",
       "      <td>Albania</td>\n",
       "    </tr>\n",
       "    <tr>\n",
       "      <th>2</th>\n",
       "      <td>Algeria</td>\n",
       "      <td>Algérie (l')</td>\n",
       "      <td>DZ</td>\n",
       "      <td>DZA</td>\n",
       "      <td>12</td>\n",
       "      <td>Algeria</td>\n",
       "    </tr>\n",
       "    <tr>\n",
       "      <th>3</th>\n",
       "      <td>American Samoa</td>\n",
       "      <td>Samoa américaines (les)</td>\n",
       "      <td>AS</td>\n",
       "      <td>ASM</td>\n",
       "      <td>16</td>\n",
       "      <td>American Samoa</td>\n",
       "    </tr>\n",
       "    <tr>\n",
       "      <th>4</th>\n",
       "      <td>Andorra</td>\n",
       "      <td>Andorre (l')</td>\n",
       "      <td>AD</td>\n",
       "      <td>AND</td>\n",
       "      <td>20</td>\n",
       "      <td>Andorra</td>\n",
       "    </tr>\n",
       "  </tbody>\n",
       "</table>\n",
       "</div>"
      ],
      "text/plain": [
       "  English_short_name        French_short_name Alpha_2_code Alpha_3_code  \\\n",
       "0        Afghanistan         Afghanistan (l')           AF          AFG   \n",
       "1            Albania             Albanie (l')           AL          ALB   \n",
       "2            Algeria             Algérie (l')           DZ          DZA   \n",
       "3     American Samoa  Samoa américaines (les)           AS          ASM   \n",
       "4            Andorra             Andorre (l')           AD          AND   \n",
       "\n",
       "   Numeric          Origin  \n",
       "0        4     Afghanistan  \n",
       "1        8         Albania  \n",
       "2       12         Algeria  \n",
       "3       16  American Samoa  \n",
       "4       20         Andorra  "
      ]
     },
     "execution_count": 10,
     "metadata": {},
     "output_type": "execute_result"
    }
   ],
   "source": [
    "# Load ISO code csv\n",
    "iso = pd.read_csv(\"ISO_codes.csv\")\n",
    "iso.head()"
   ]
  },
  {
   "cell_type": "code",
   "execution_count": 23,
   "metadata": {},
   "outputs": [
    {
     "data": {
      "text/html": [
       "<div>\n",
       "<style scoped>\n",
       "    .dataframe tbody tr th:only-of-type {\n",
       "        vertical-align: middle;\n",
       "    }\n",
       "\n",
       "    .dataframe tbody tr th {\n",
       "        vertical-align: top;\n",
       "    }\n",
       "\n",
       "    .dataframe thead th {\n",
       "        text-align: right;\n",
       "    }\n",
       "</style>\n",
       "<table border=\"1\" class=\"dataframe\">\n",
       "  <thead>\n",
       "    <tr style=\"text-align: right;\">\n",
       "      <th></th>\n",
       "      <th></th>\n",
       "      <th>Applied during year</th>\n",
       "      <th>year_origin</th>\n",
       "      <th>English_short_name</th>\n",
       "      <th>French_short_name</th>\n",
       "      <th>Alpha_2_code</th>\n",
       "      <th>Alpha_3_code</th>\n",
       "      <th>Numeric</th>\n",
       "    </tr>\n",
       "    <tr>\n",
       "      <th>Year</th>\n",
       "      <th>Origin</th>\n",
       "      <th></th>\n",
       "      <th></th>\n",
       "      <th></th>\n",
       "      <th></th>\n",
       "      <th></th>\n",
       "      <th></th>\n",
       "      <th></th>\n",
       "    </tr>\n",
       "  </thead>\n",
       "  <tbody>\n",
       "    <tr>\n",
       "      <th rowspan=\"5\" valign=\"top\">2000</th>\n",
       "      <th>Afghanistan</th>\n",
       "      <td>291283</td>\n",
       "      <td>(2000, Afghanistan)</td>\n",
       "      <td>Afghanistan</td>\n",
       "      <td>Afghanistan (l')</td>\n",
       "      <td>AF</td>\n",
       "      <td>AFG</td>\n",
       "      <td>4.0</td>\n",
       "    </tr>\n",
       "    <tr>\n",
       "      <th>Albania</th>\n",
       "      <td>9765</td>\n",
       "      <td>(2000, Albania)</td>\n",
       "      <td>Albania</td>\n",
       "      <td>Albanie (l')</td>\n",
       "      <td>AL</td>\n",
       "      <td>ALB</td>\n",
       "      <td>8.0</td>\n",
       "    </tr>\n",
       "    <tr>\n",
       "      <th>Algeria</th>\n",
       "      <td>10312</td>\n",
       "      <td>(2000, Algeria)</td>\n",
       "      <td>Algeria</td>\n",
       "      <td>Algérie (l')</td>\n",
       "      <td>DZ</td>\n",
       "      <td>DZA</td>\n",
       "      <td>12.0</td>\n",
       "    </tr>\n",
       "    <tr>\n",
       "      <th>Andorra</th>\n",
       "      <td>1</td>\n",
       "      <td>(2000, Andorra)</td>\n",
       "      <td>Andorra</td>\n",
       "      <td>Andorre (l')</td>\n",
       "      <td>AD</td>\n",
       "      <td>AND</td>\n",
       "      <td>20.0</td>\n",
       "    </tr>\n",
       "    <tr>\n",
       "      <th>Angola</th>\n",
       "      <td>7160</td>\n",
       "      <td>(2000, Angola)</td>\n",
       "      <td>Angola</td>\n",
       "      <td>Angola (l')</td>\n",
       "      <td>AO</td>\n",
       "      <td>AGO</td>\n",
       "      <td>24.0</td>\n",
       "    </tr>\n",
       "  </tbody>\n",
       "</table>\n",
       "</div>"
      ],
      "text/plain": [
       "                  Applied during year          year_origin English_short_name  \\\n",
       "Year Origin                                                                     \n",
       "2000 Afghanistan               291283  (2000, Afghanistan)        Afghanistan   \n",
       "     Albania                     9765      (2000, Albania)            Albania   \n",
       "     Algeria                    10312      (2000, Algeria)            Algeria   \n",
       "     Andorra                        1      (2000, Andorra)            Andorra   \n",
       "     Angola                      7160       (2000, Angola)             Angola   \n",
       "\n",
       "                 French_short_name Alpha_2_code Alpha_3_code  Numeric  \n",
       "Year Origin                                                            \n",
       "2000 Afghanistan  Afghanistan (l')           AF          AFG      4.0  \n",
       "     Albania          Albanie (l')           AL          ALB      8.0  \n",
       "     Algeria          Algérie (l')           DZ          DZA     12.0  \n",
       "     Andorra          Andorre (l')           AD          AND     20.0  \n",
       "     Angola            Angola (l')           AO          AGO     24.0  "
      ]
     },
     "execution_count": 23,
     "metadata": {},
     "output_type": "execute_result"
    }
   ],
   "source": [
    "output_df = pd.merge(target_df,iso,how='left',on='Origin').set_index(output_df.index)\n",
    "output_df = output_df.drop(['Origin'],axis=1)\n",
    "output_df.head()"
   ]
  },
  {
   "cell_type": "code",
   "execution_count": 24,
   "metadata": {},
   "outputs": [],
   "source": [
    "# Create csv\n",
    "output_df.to_csv(\"Asylum_seekers_per_country_per_year.csv\")"
   ]
  }
 ],
 "metadata": {
  "kernelspec": {
   "display_name": "Python 3",
   "language": "python",
   "name": "python3"
  },
  "language_info": {
   "codemirror_mode": {
    "name": "ipython",
    "version": 3
   },
   "file_extension": ".py",
   "mimetype": "text/x-python",
   "name": "python",
   "nbconvert_exporter": "python",
   "pygments_lexer": "ipython3",
   "version": "3.7.3"
  }
 },
 "nbformat": 4,
 "nbformat_minor": 2
}
